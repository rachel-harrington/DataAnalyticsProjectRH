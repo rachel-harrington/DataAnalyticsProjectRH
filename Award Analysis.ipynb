{
 "cells": [
  {
   "cell_type": "code",
   "execution_count": 180,
   "id": "d3fab1ec-2b4a-4762-b47a-d2b243bd6d7c",
   "metadata": {},
   "outputs": [],
   "source": [
    "import pandas as pd\n",
    "import numpy as np\n",
    "import matplotlib.pyplot as mpl\n",
    "from pandas import Series, DataFrame\n"
   ]
  },
  {
   "cell_type": "code",
   "execution_count": 181,
   "id": "a4c08e53-9a92-4993-918f-a462c6d6365f",
   "metadata": {},
   "outputs": [],
   "source": [
    "import os\n",
    "cwd=os.getcwd()\n",
    "\n",
    "from os.path import join"
   ]
  },
  {
   "cell_type": "code",
   "execution_count": 182,
   "id": "f39020da",
   "metadata": {},
   "outputs": [],
   "source": [
    "data=pd.read_csv(\"AwardsDirectors.csv\")"
   ]
  },
  {
   "cell_type": "code",
   "execution_count": 183,
   "id": "e716d620",
   "metadata": {},
   "outputs": [
    {
     "data": {
      "text/plain": [
       "director_name         object\n",
       "ceremony              object\n",
       "year                 float64\n",
       "category              object\n",
       "outcome               object\n",
       "original_language     object\n",
       "dtype: object"
      ]
     },
     "execution_count": 183,
     "metadata": {},
     "output_type": "execute_result"
    }
   ],
   "source": [
    "data.dtypes"
   ]
  },
  {
   "cell_type": "code",
   "execution_count": 184,
   "id": "7c932e94-0134-402c-9ca5-dc26012aeaa7",
   "metadata": {},
   "outputs": [],
   "source": [
    "data['year']=data.year.astype(int) ##changed year from float to int"
   ]
  },
  {
   "cell_type": "code",
   "execution_count": 185,
   "id": "91aa7ca0-4b6e-4359-86aa-3e5e8973934b",
   "metadata": {},
   "outputs": [
    {
     "data": {
      "text/plain": [
       "(225675, 6)"
      ]
     },
     "execution_count": 185,
     "metadata": {},
     "output_type": "execute_result"
    }
   ],
   "source": [
    "data.shape"
   ]
  },
  {
   "cell_type": "code",
   "execution_count": 186,
   "id": "ba989e2d-7fc1-46b1-ba22-9b7113893be0",
   "metadata": {},
   "outputs": [
    {
     "data": {
      "text/plain": [
       "director_name        0\n",
       "ceremony             0\n",
       "year                 0\n",
       "category             1\n",
       "outcome              0\n",
       "original_language    0\n",
       "dtype: int64"
      ]
     },
     "execution_count": 186,
     "metadata": {},
     "output_type": "execute_result"
    }
   ],
   "source": [
    "pd.isna(data).sum() ##checking for null values"
   ]
  },
  {
   "cell_type": "code",
   "execution_count": 187,
   "id": "8afdfc64-1abf-4c62-81e2-adb98a8c24c0",
   "metadata": {},
   "outputs": [],
   "source": [
    "m=pd.isna(data.category)"
   ]
  },
  {
   "cell_type": "code",
   "execution_count": 188,
   "id": "057f4386-f404-4479-b4d8-4955ab8d7775",
   "metadata": {},
   "outputs": [
    {
     "data": {
      "text/html": [
       "<div>\n",
       "<style scoped>\n",
       "    .dataframe tbody tr th:only-of-type {\n",
       "        vertical-align: middle;\n",
       "    }\n",
       "\n",
       "    .dataframe tbody tr th {\n",
       "        vertical-align: top;\n",
       "    }\n",
       "\n",
       "    .dataframe thead th {\n",
       "        text-align: right;\n",
       "    }\n",
       "</style>\n",
       "<table border=\"1\" class=\"dataframe\">\n",
       "  <thead>\n",
       "    <tr style=\"text-align: right;\">\n",
       "      <th></th>\n",
       "      <th>director_name</th>\n",
       "      <th>ceremony</th>\n",
       "      <th>year</th>\n",
       "      <th>category</th>\n",
       "      <th>outcome</th>\n",
       "      <th>original_language</th>\n",
       "    </tr>\n",
       "  </thead>\n",
       "  <tbody>\n",
       "    <tr>\n",
       "      <th>169069</th>\n",
       "      <td>Lauren Wolkstein</td>\n",
       "      <td>Bratislava Francophone Film Festival</td>\n",
       "      <td>2011</td>\n",
       "      <td>NaN</td>\n",
       "      <td>Nominated</td>\n",
       "      <td>en</td>\n",
       "    </tr>\n",
       "  </tbody>\n",
       "</table>\n",
       "</div>"
      ],
      "text/plain": [
       "           director_name                              ceremony  year category  \\\n",
       "169069  Lauren Wolkstein  Bratislava Francophone Film Festival  2011      NaN   \n",
       "\n",
       "          outcome original_language  \n",
       "169069  Nominated                en  "
      ]
     },
     "execution_count": 188,
     "metadata": {},
     "output_type": "execute_result"
    }
   ],
   "source": [
    "data[m] ##looking at null value, doesn't impact too much, I won't remove"
   ]
  },
  {
   "cell_type": "code",
   "execution_count": 189,
   "id": "1c858bd0-fb6b-44b6-97a5-dfd770724b76",
   "metadata": {},
   "outputs": [
    {
     "data": {
      "text/plain": [
       "director_name        29503\n",
       "ceremony              3428\n",
       "year                    94\n",
       "category              8286\n",
       "outcome                  4\n",
       "original_language       93\n",
       "dtype: int64"
      ]
     },
     "execution_count": 189,
     "metadata": {},
     "output_type": "execute_result"
    }
   ],
   "source": [
    "data.apply(lambda x:x.nunique())"
   ]
  },
  {
   "cell_type": "code",
   "execution_count": 190,
   "id": "406d4ee5",
   "metadata": {},
   "outputs": [],
   "source": [
    "s_ltoc=pd.read_csv(\"LanguagetoCountry.csv\",squeeze=True) ##adding new csv file"
   ]
  },
  {
   "cell_type": "code",
   "execution_count": 191,
   "id": "6498fdb1-abf2-4ec2-9a5d-725fd38450f6",
   "metadata": {},
   "outputs": [],
   "source": [
    "two_three=pd.Series(data=s_ltoc.map(lambda x:x.split(';')[1]),index=s_ltoc.map(lambda x:x.split(';')[0]),name='country_code')"
   ]
  },
  {
   "cell_type": "code",
   "execution_count": 192,
   "id": "b11ed1c7-633d-45d0-8e90-290513be84ae",
   "metadata": {},
   "outputs": [],
   "source": [
    "rhs=set(s_ltoc.map(lambda x:x.split(';')[0]))"
   ]
  },
  {
   "cell_type": "code",
   "execution_count": 193,
   "id": "f768cc3c",
   "metadata": {},
   "outputs": [],
   "source": [
    "lhs_orig_lan=set(data.original_language)"
   ]
  },
  {
   "cell_type": "code",
   "execution_count": 194,
   "id": "41710891",
   "metadata": {},
   "outputs": [],
   "source": [
    "df2=pd.merge(left=data,right=two_three,left_on='original_language',right_index=True,how='left') ##merging new csv file"
   ]
  },
  {
   "cell_type": "code",
   "execution_count": 195,
   "id": "77775587-30f2-4982-a4be-85e3bf2ef867",
   "metadata": {},
   "outputs": [
    {
     "data": {
      "text/plain": [
       "['director_name',\n",
       " 'ceremony',\n",
       " 'year',\n",
       " 'category',\n",
       " 'outcome',\n",
       " 'original_language',\n",
       " 'country_code']"
      ]
     },
     "execution_count": 195,
     "metadata": {},
     "output_type": "execute_result"
    }
   ],
   "source": [
    "df2.columns.tolist()"
   ]
  },
  {
   "cell_type": "code",
   "execution_count": 196,
   "id": "2b01c539-4a0f-4d6f-bd42-f15c787902bb",
   "metadata": {},
   "outputs": [
    {
     "data": {
      "text/plain": [
       "director_name             0\n",
       "ceremony                  0\n",
       "year                      0\n",
       "category                  1\n",
       "outcome                   0\n",
       "original_language         0\n",
       "country_code         225675\n",
       "dtype: int64"
      ]
     },
     "execution_count": 196,
     "metadata": {},
     "output_type": "execute_result"
    }
   ],
   "source": [
    "pd.isna(df2).sum()"
   ]
  },
  {
   "cell_type": "code",
   "execution_count": 197,
   "id": "06ee7a6c-d4ac-4f91-ace3-393b643c7da4",
   "metadata": {},
   "outputs": [
    {
     "data": {
      "text/plain": [
       "director_name        29503\n",
       "ceremony              3428\n",
       "year                    94\n",
       "category              8286\n",
       "outcome                  4\n",
       "original_language       93\n",
       "country_code             0\n",
       "dtype: int64"
      ]
     },
     "execution_count": 197,
     "metadata": {},
     "output_type": "execute_result"
    }
   ],
   "source": [
    "df2.apply(lambda x:x.nunique()) ##checking unique values, instead of repeating len(pd.unique(df['year']"
   ]
  },
  {
   "cell_type": "code",
   "execution_count": 198,
   "id": "ac0d2db5-df5f-4609-9078-b94e7fbcbd08",
   "metadata": {},
   "outputs": [],
   "source": [
    "df_year=df2.set_index(['year','ceremony']).sort_index()"
   ]
  },
  {
   "cell_type": "code",
   "execution_count": 199,
   "id": "a7488c94-f2ab-4a45-b4e1-a6858448976f",
   "metadata": {
    "jupyter": {
     "outputs_hidden": true
    },
    "tags": []
   },
   "outputs": [
    {
     "data": {
      "text/html": [
       "<div>\n",
       "<style scoped>\n",
       "    .dataframe tbody tr th:only-of-type {\n",
       "        vertical-align: middle;\n",
       "    }\n",
       "\n",
       "    .dataframe tbody tr th {\n",
       "        vertical-align: top;\n",
       "    }\n",
       "\n",
       "    .dataframe thead th {\n",
       "        text-align: right;\n",
       "    }\n",
       "</style>\n",
       "<table border=\"1\" class=\"dataframe\">\n",
       "  <thead>\n",
       "    <tr style=\"text-align: right;\">\n",
       "      <th></th>\n",
       "      <th>director_name</th>\n",
       "      <th>category</th>\n",
       "      <th>outcome</th>\n",
       "      <th>original_language</th>\n",
       "      <th>country_code</th>\n",
       "    </tr>\n",
       "    <tr>\n",
       "      <th>ceremony</th>\n",
       "      <th></th>\n",
       "      <th></th>\n",
       "      <th></th>\n",
       "      <th></th>\n",
       "      <th></th>\n",
       "    </tr>\n",
       "  </thead>\n",
       "  <tbody>\n",
       "    <tr>\n",
       "      <th>12 Months Film Festival</th>\n",
       "      <td>Jean-Luc Julien</td>\n",
       "      <td>August Award</td>\n",
       "      <td>Nominated</td>\n",
       "      <td>en</td>\n",
       "      <td>NaN</td>\n",
       "    </tr>\n",
       "    <tr>\n",
       "      <th>12 Months Film Festival</th>\n",
       "      <td>Davide Melini</td>\n",
       "      <td>July Award</td>\n",
       "      <td>Won</td>\n",
       "      <td>en</td>\n",
       "      <td>NaN</td>\n",
       "    </tr>\n",
       "    <tr>\n",
       "      <th>12 Months Film Festival</th>\n",
       "      <td>Davide Melini</td>\n",
       "      <td>July Award</td>\n",
       "      <td>2nd place</td>\n",
       "      <td>en</td>\n",
       "      <td>NaN</td>\n",
       "    </tr>\n",
       "    <tr>\n",
       "      <th>168 Film Festival, US</th>\n",
       "      <td>Wes Llewellyn</td>\n",
       "      <td>Best Director</td>\n",
       "      <td>Won</td>\n",
       "      <td>en</td>\n",
       "      <td>NaN</td>\n",
       "    </tr>\n",
       "    <tr>\n",
       "      <th>168 Film Festival, US</th>\n",
       "      <td>Wes Llewellyn</td>\n",
       "      <td>Best Film</td>\n",
       "      <td>3rd place</td>\n",
       "      <td>en</td>\n",
       "      <td>NaN</td>\n",
       "    </tr>\n",
       "    <tr>\n",
       "      <th>...</th>\n",
       "      <td>...</td>\n",
       "      <td>...</td>\n",
       "      <td>...</td>\n",
       "      <td>...</td>\n",
       "      <td>...</td>\n",
       "    </tr>\n",
       "    <tr>\n",
       "      <th>iHorror Awards</th>\n",
       "      <td>Ryan Byrne</td>\n",
       "      <td>iHorror Award</td>\n",
       "      <td>Won</td>\n",
       "      <td>en</td>\n",
       "      <td>NaN</td>\n",
       "    </tr>\n",
       "    <tr>\n",
       "      <th>iHorror Awards</th>\n",
       "      <td>Tim Egan</td>\n",
       "      <td>iHorror Award</td>\n",
       "      <td>Won</td>\n",
       "      <td>en</td>\n",
       "      <td>NaN</td>\n",
       "    </tr>\n",
       "    <tr>\n",
       "      <th>iHorror Awards</th>\n",
       "      <td>Blake Mawson</td>\n",
       "      <td>iHorror Award</td>\n",
       "      <td>Nominated</td>\n",
       "      <td>ru</td>\n",
       "      <td>NaN</td>\n",
       "    </tr>\n",
       "    <tr>\n",
       "      <th>iHorror Awards</th>\n",
       "      <td>Lauren Cohan</td>\n",
       "      <td>iHorror Award</td>\n",
       "      <td>Nominated</td>\n",
       "      <td>en</td>\n",
       "      <td>NaN</td>\n",
       "    </tr>\n",
       "    <tr>\n",
       "      <th>qFLIX Philadelphia</th>\n",
       "      <td>Pouria Heidary Oureh</td>\n",
       "      <td>Jury Award</td>\n",
       "      <td>Nominated</td>\n",
       "      <td>en</td>\n",
       "      <td>NaN</td>\n",
       "    </tr>\n",
       "  </tbody>\n",
       "</table>\n",
       "<p>6888 rows × 5 columns</p>\n",
       "</div>"
      ],
      "text/plain": [
       "                                director_name       category    outcome  \\\n",
       "ceremony                                                                  \n",
       "12 Months Film Festival       Jean-Luc Julien   August Award  Nominated   \n",
       "12 Months Film Festival         Davide Melini     July Award        Won   \n",
       "12 Months Film Festival         Davide Melini     July Award  2nd place   \n",
       "168 Film Festival, US           Wes Llewellyn  Best Director        Won   \n",
       "168 Film Festival, US           Wes Llewellyn      Best Film  3rd place   \n",
       "...                                       ...            ...        ...   \n",
       "iHorror Awards                     Ryan Byrne  iHorror Award        Won   \n",
       "iHorror Awards                       Tim Egan  iHorror Award        Won   \n",
       "iHorror Awards                   Blake Mawson  iHorror Award  Nominated   \n",
       "iHorror Awards                   Lauren Cohan  iHorror Award  Nominated   \n",
       "qFLIX Philadelphia       Pouria Heidary Oureh     Jury Award  Nominated   \n",
       "\n",
       "                        original_language country_code  \n",
       "ceremony                                                \n",
       "12 Months Film Festival                en          NaN  \n",
       "12 Months Film Festival                en          NaN  \n",
       "12 Months Film Festival                en          NaN  \n",
       "168 Film Festival, US                  en          NaN  \n",
       "168 Film Festival, US                  en          NaN  \n",
       "...                                   ...          ...  \n",
       "iHorror Awards                         en          NaN  \n",
       "iHorror Awards                         en          NaN  \n",
       "iHorror Awards                         ru          NaN  \n",
       "iHorror Awards                         en          NaN  \n",
       "qFLIX Philadelphia                     en          NaN  \n",
       "\n",
       "[6888 rows x 5 columns]"
      ]
     },
     "execution_count": 199,
     "metadata": {},
     "output_type": "execute_result"
    }
   ],
   "source": [
    "df_year.loc[(2017)]"
   ]
  },
  {
   "cell_type": "code",
   "execution_count": 200,
   "id": "c289c9aa-c9ab-41a9-b45b-6709234264d1",
   "metadata": {},
   "outputs": [],
   "source": [
    "df_director=df2.set_index('director_name').sort_index()"
   ]
  },
  {
   "cell_type": "code",
   "execution_count": 201,
   "id": "f7441061-6c0c-469d-bf93-977b749fe118",
   "metadata": {},
   "outputs": [
    {
     "data": {
      "text/html": [
       "<div>\n",
       "<style scoped>\n",
       "    .dataframe tbody tr th:only-of-type {\n",
       "        vertical-align: middle;\n",
       "    }\n",
       "\n",
       "    .dataframe tbody tr th {\n",
       "        vertical-align: top;\n",
       "    }\n",
       "\n",
       "    .dataframe thead th {\n",
       "        text-align: right;\n",
       "    }\n",
       "</style>\n",
       "<table border=\"1\" class=\"dataframe\">\n",
       "  <thead>\n",
       "    <tr style=\"text-align: right;\">\n",
       "      <th></th>\n",
       "      <th>ceremony</th>\n",
       "      <th>year</th>\n",
       "      <th>category</th>\n",
       "      <th>outcome</th>\n",
       "      <th>original_language</th>\n",
       "      <th>country_code</th>\n",
       "    </tr>\n",
       "    <tr>\n",
       "      <th>director_name</th>\n",
       "      <th></th>\n",
       "      <th></th>\n",
       "      <th></th>\n",
       "      <th></th>\n",
       "      <th></th>\n",
       "      <th></th>\n",
       "    </tr>\n",
       "  </thead>\n",
       "  <tbody>\n",
       "    <tr>\n",
       "      <th>50 Cent</th>\n",
       "      <td>MTV Video Music Awards (VMA)</td>\n",
       "      <td>2005</td>\n",
       "      <td>VMA</td>\n",
       "      <td>Nominated</td>\n",
       "      <td>en</td>\n",
       "      <td>NaN</td>\n",
       "    </tr>\n",
       "    <tr>\n",
       "      <th>50 Cent</th>\n",
       "      <td>Grammy Awards</td>\n",
       "      <td>2006</td>\n",
       "      <td>Grammy</td>\n",
       "      <td>Nominated</td>\n",
       "      <td>en</td>\n",
       "      <td>NaN</td>\n",
       "    </tr>\n",
       "    <tr>\n",
       "      <th>50 Cent</th>\n",
       "      <td>Grammy Awards</td>\n",
       "      <td>2008</td>\n",
       "      <td>Grammy</td>\n",
       "      <td>Nominated</td>\n",
       "      <td>en</td>\n",
       "      <td>NaN</td>\n",
       "    </tr>\n",
       "    <tr>\n",
       "      <th>50 Cent</th>\n",
       "      <td>Satellite Awards</td>\n",
       "      <td>2005</td>\n",
       "      <td>Satellite Award</td>\n",
       "      <td>Nominated</td>\n",
       "      <td>en</td>\n",
       "      <td>NaN</td>\n",
       "    </tr>\n",
       "    <tr>\n",
       "      <th>50 Cent</th>\n",
       "      <td>Teen Choice Awards</td>\n",
       "      <td>2006</td>\n",
       "      <td>Teen Choice Award</td>\n",
       "      <td>Nominated</td>\n",
       "      <td>en</td>\n",
       "      <td>NaN</td>\n",
       "    </tr>\n",
       "    <tr>\n",
       "      <th>50 Cent</th>\n",
       "      <td>Black Reel Awards</td>\n",
       "      <td>2004</td>\n",
       "      <td>Black Reel</td>\n",
       "      <td>Nominated</td>\n",
       "      <td>en</td>\n",
       "      <td>NaN</td>\n",
       "    </tr>\n",
       "    <tr>\n",
       "      <th>A. Blaine Miller</th>\n",
       "      <td>Park City Film Music Festival</td>\n",
       "      <td>2006</td>\n",
       "      <td>Gold Medal for Excellence</td>\n",
       "      <td>Won</td>\n",
       "      <td>en</td>\n",
       "      <td>NaN</td>\n",
       "    </tr>\n",
       "    <tr>\n",
       "      <th>A. Blaine Miller</th>\n",
       "      <td>Great Lakes Film Festival</td>\n",
       "      <td>2005</td>\n",
       "      <td>Festival Prize</td>\n",
       "      <td>Won</td>\n",
       "      <td>en</td>\n",
       "      <td>NaN</td>\n",
       "    </tr>\n",
       "    <tr>\n",
       "      <th>A. Blaine Miller</th>\n",
       "      <td>Breckenridge Festival of Film</td>\n",
       "      <td>2005</td>\n",
       "      <td>Best of the Fest</td>\n",
       "      <td>Won</td>\n",
       "      <td>en</td>\n",
       "      <td>NaN</td>\n",
       "    </tr>\n",
       "    <tr>\n",
       "      <th>A. C. Trilogchander</th>\n",
       "      <td>Tamil Nadu State Film Awards, India</td>\n",
       "      <td>1969</td>\n",
       "      <td>Creative Award</td>\n",
       "      <td>3rd place</td>\n",
       "      <td>en</td>\n",
       "      <td>NaN</td>\n",
       "    </tr>\n",
       "  </tbody>\n",
       "</table>\n",
       "</div>"
      ],
      "text/plain": [
       "                                                ceremony  year  \\\n",
       "director_name                                                    \n",
       "50 Cent                     MTV Video Music Awards (VMA)  2005   \n",
       "50 Cent                                    Grammy Awards  2006   \n",
       "50 Cent                                    Grammy Awards  2008   \n",
       "50 Cent                                 Satellite Awards  2005   \n",
       "50 Cent                               Teen Choice Awards  2006   \n",
       "50 Cent                                Black Reel Awards  2004   \n",
       "A. Blaine Miller           Park City Film Music Festival  2006   \n",
       "A. Blaine Miller               Great Lakes Film Festival  2005   \n",
       "A. Blaine Miller           Breckenridge Festival of Film  2005   \n",
       "A. C. Trilogchander  Tamil Nadu State Film Awards, India  1969   \n",
       "\n",
       "                                      category    outcome original_language  \\\n",
       "director_name                                                                 \n",
       "50 Cent                                    VMA  Nominated                en   \n",
       "50 Cent                                 Grammy  Nominated                en   \n",
       "50 Cent                                 Grammy  Nominated                en   \n",
       "50 Cent                        Satellite Award  Nominated                en   \n",
       "50 Cent                      Teen Choice Award  Nominated                en   \n",
       "50 Cent                             Black Reel  Nominated                en   \n",
       "A. Blaine Miller     Gold Medal for Excellence        Won                en   \n",
       "A. Blaine Miller                Festival Prize        Won                en   \n",
       "A. Blaine Miller              Best of the Fest        Won                en   \n",
       "A. C. Trilogchander             Creative Award  3rd place                en   \n",
       "\n",
       "                    country_code  \n",
       "director_name                     \n",
       "50 Cent                      NaN  \n",
       "50 Cent                      NaN  \n",
       "50 Cent                      NaN  \n",
       "50 Cent                      NaN  \n",
       "50 Cent                      NaN  \n",
       "50 Cent                      NaN  \n",
       "A. Blaine Miller             NaN  \n",
       "A. Blaine Miller             NaN  \n",
       "A. Blaine Miller             NaN  \n",
       "A. C. Trilogchander          NaN  "
      ]
     },
     "execution_count": 201,
     "metadata": {},
     "output_type": "execute_result"
    }
   ],
   "source": [
    "df_director[20:30]"
   ]
  },
  {
   "cell_type": "code",
   "execution_count": 202,
   "id": "0fd439a8-6dbe-41c6-810a-fda8ff2ca705",
   "metadata": {
    "tags": []
   },
   "outputs": [
    {
     "data": {
      "text/plain": [
       "['Nominated', 'Won', '2nd place', '3rd place']"
      ]
     },
     "execution_count": 202,
     "metadata": {},
     "output_type": "execute_result"
    }
   ],
   "source": [
    "df2.outcome.value_counts(normalize=True).index.tolist() ##making dictionary"
   ]
  },
  {
   "cell_type": "code",
   "execution_count": 203,
   "id": "b21ea625-e4ee-4504-931b-76ce0818aa87",
   "metadata": {},
   "outputs": [],
   "source": [
    "score_system=dict.fromkeys(df2.outcome.value_counts().index.tolist()) ##adding more numerical values by creating score system"
   ]
  },
  {
   "cell_type": "code",
   "execution_count": 204,
   "id": "d2073f57-28c0-4ec3-b1bf-e9a30bcda89a",
   "metadata": {},
   "outputs": [
    {
     "data": {
      "text/plain": [
       "{'Nominated': None, 'Won': None, '2nd place': None, '3rd place': None}"
      ]
     },
     "execution_count": 204,
     "metadata": {},
     "output_type": "execute_result"
    }
   ],
   "source": [
    "score_system"
   ]
  },
  {
   "cell_type": "code",
   "execution_count": 205,
   "id": "f9f38597-4991-41fd-a192-482c873add74",
   "metadata": {},
   "outputs": [
    {
     "data": {
      "text/plain": [
       "dict_keys(['Nominated', 'Won', '2nd place', '3rd place'])"
      ]
     },
     "execution_count": 205,
     "metadata": {},
     "output_type": "execute_result"
    }
   ],
   "source": [
    "score_system.keys()"
   ]
  },
  {
   "cell_type": "code",
   "execution_count": 206,
   "id": "d2cddb7b-e807-48bc-ad00-bb3994337bfe",
   "metadata": {},
   "outputs": [],
   "source": [
    "score_system['Won']=10\n",
    "score_system['Nominated']=1\n",
    "score_system['2nd place']=3\n",
    "score_system['3rd place']=2"
   ]
  },
  {
   "cell_type": "code",
   "execution_count": 207,
   "id": "5a4418af-406d-47bb-b58e-4545c1087718",
   "metadata": {},
   "outputs": [],
   "source": [
    "df2['score']=df2.outcome.map(score_system)"
   ]
  },
  {
   "cell_type": "code",
   "execution_count": 208,
   "id": "02d7a4c7-2784-4e0d-970f-f60c902adac5",
   "metadata": {},
   "outputs": [
    {
     "data": {
      "text/plain": [
       "count    225675.000000\n",
       "mean          5.439371\n",
       "std           4.472162\n",
       "min           1.000000\n",
       "25%           1.000000\n",
       "50%           3.000000\n",
       "75%          10.000000\n",
       "max          10.000000\n",
       "Name: score, dtype: float64"
      ]
     },
     "execution_count": 208,
     "metadata": {},
     "output_type": "execute_result"
    }
   ],
   "source": [
    "df2.score.describe()"
   ]
  },
  {
   "cell_type": "code",
   "execution_count": 223,
   "id": "8f24a201-f2fa-4d09-a6ff-5520823e9eac",
   "metadata": {},
   "outputs": [
    {
     "name": "stdout",
     "output_type": "stream",
     "text": [
      "                                                             score\n",
      "director_name            ceremony                                 \n",
      "Shawn Welling            WorldFest Houston                     390\n",
      "David Winning            WorldFest Houston                     330\n",
      "Walt Disney              Academy Awards, USA                   256\n",
      "John Williams            BMI Film & TV Awards                  210\n",
      "James L. Brooks          Primetime Emmy Awards                 207\n",
      "...                                                            ...\n",
      "Mikko Niskanen           Moscow International Film Festival      1\n",
      "Miklós Jancsó            Berlin International Film Festival      1\n",
      "Dominique Othenin-Girard Berlin International Film Festival      1\n",
      "                         Baden-Baden TV Film Festival            1\n",
      "\\tCheung Chi-Sing        Golden Horse Film Festival              1\n",
      "\n",
      "[147874 rows x 1 columns]\n"
     ]
    }
   ],
   "source": [
    "score_dir_cer=df2.groupby(['director_name','ceremony'])[['score']].sum().sort_values(by='score',ascending=False)\n",
    "print(score_dir_cer)"
   ]
  },
  {
   "cell_type": "code",
   "execution_count": 224,
   "id": "01404de0-14d5-47e4-be75-cd6be6f304bf",
   "metadata": {},
   "outputs": [],
   "source": [
    "score_dir_cer.sort_index().to_excel(join(cwd,'director_ceremony.xlsx'))"
   ]
  },
  {
   "cell_type": "code",
   "execution_count": 225,
   "id": "2e83aec9-f39e-4f49-8798-0208e6d005f1",
   "metadata": {},
   "outputs": [],
   "source": [
    "year_dir=df2.groupby(['director_name'])[['year']].mean().sort_values(by='year')"
   ]
  },
  {
   "cell_type": "code",
   "execution_count": 212,
   "id": "4b2e540f-e16f-410f-83f9-86ea87189321",
   "metadata": {},
   "outputs": [
    {
     "data": {
      "text/plain": [
       "year    1952.370787\n",
       "Name: Walt Disney, dtype: float64"
      ]
     },
     "execution_count": 212,
     "metadata": {},
     "output_type": "execute_result"
    }
   ],
   "source": [
    "year_dir.loc['Walt Disney']"
   ]
  },
  {
   "cell_type": "code",
   "execution_count": 227,
   "id": "8f0ef211-d6f7-4226-92fd-88c843720d73",
   "metadata": {},
   "outputs": [],
   "source": [
    "top_directors=df2.groupby(['director_name'])[['score']].sum().sort_values(by='score',ascending=False)"
   ]
  },
  {
   "cell_type": "code",
   "execution_count": 228,
   "id": "97c801d6-363f-43de-b192-474175ea3793",
   "metadata": {},
   "outputs": [
    {
     "data": {
      "text/html": [
       "<div>\n",
       "<style scoped>\n",
       "    .dataframe tbody tr th:only-of-type {\n",
       "        vertical-align: middle;\n",
       "    }\n",
       "\n",
       "    .dataframe tbody tr th {\n",
       "        vertical-align: top;\n",
       "    }\n",
       "\n",
       "    .dataframe thead th {\n",
       "        text-align: right;\n",
       "    }\n",
       "</style>\n",
       "<table border=\"1\" class=\"dataframe\">\n",
       "  <thead>\n",
       "    <tr style=\"text-align: right;\">\n",
       "      <th></th>\n",
       "      <th>score</th>\n",
       "    </tr>\n",
       "    <tr>\n",
       "      <th>director_name</th>\n",
       "      <th></th>\n",
       "    </tr>\n",
       "  </thead>\n",
       "  <tbody>\n",
       "    <tr>\n",
       "      <th>Steven Spielberg</th>\n",
       "      <td>1863</td>\n",
       "    </tr>\n",
       "    <tr>\n",
       "      <th>Don Hertzfeldt</th>\n",
       "      <td>1590</td>\n",
       "    </tr>\n",
       "    <tr>\n",
       "      <th>Martin Scorsese</th>\n",
       "      <td>1540</td>\n",
       "    </tr>\n",
       "    <tr>\n",
       "      <th>Clint Eastwood</th>\n",
       "      <td>1527</td>\n",
       "    </tr>\n",
       "    <tr>\n",
       "      <th>Woody Allen</th>\n",
       "      <td>1444</td>\n",
       "    </tr>\n",
       "    <tr>\n",
       "      <th>...</th>\n",
       "      <td>...</td>\n",
       "    </tr>\n",
       "    <tr>\n",
       "      <th>Kenneth J. Hall</th>\n",
       "      <td>1</td>\n",
       "    </tr>\n",
       "    <tr>\n",
       "      <th>Kenneth Castillo</th>\n",
       "      <td>1</td>\n",
       "    </tr>\n",
       "    <tr>\n",
       "      <th>Kenne Fant</th>\n",
       "      <td>1</td>\n",
       "    </tr>\n",
       "    <tr>\n",
       "      <th>Ken'ichi Fujiwara</th>\n",
       "      <td>1</td>\n",
       "    </tr>\n",
       "    <tr>\n",
       "      <th>Jay Anania</th>\n",
       "      <td>1</td>\n",
       "    </tr>\n",
       "  </tbody>\n",
       "</table>\n",
       "<p>29503 rows × 1 columns</p>\n",
       "</div>"
      ],
      "text/plain": [
       "                   score\n",
       "director_name           \n",
       "Steven Spielberg    1863\n",
       "Don Hertzfeldt      1590\n",
       "Martin Scorsese     1540\n",
       "Clint Eastwood      1527\n",
       "Woody Allen         1444\n",
       "...                  ...\n",
       "Kenneth J. Hall        1\n",
       "Kenneth Castillo       1\n",
       "Kenne Fant             1\n",
       "Ken'ichi Fujiwara      1\n",
       "Jay Anania             1\n",
       "\n",
       "[29503 rows x 1 columns]"
      ]
     },
     "execution_count": 228,
     "metadata": {},
     "output_type": "execute_result"
    }
   ],
   "source": [
    "top_directors"
   ]
  },
  {
   "cell_type": "code",
   "execution_count": 46,
   "id": "732d89a5-fcf8-43ab-a724-fb086dbe65ab",
   "metadata": {},
   "outputs": [
    {
     "ename": "NameError",
     "evalue": "name 'score_dir_cat' is not defined",
     "output_type": "error",
     "traceback": [
      "\u001b[1;31m---------------------------------------------------------------------------\u001b[0m",
      "\u001b[1;31mNameError\u001b[0m                                 Traceback (most recent call last)",
      "\u001b[1;32m~\\AppData\\Local\\Temp/ipykernel_10216/565943508.py\u001b[0m in \u001b[0;36m<module>\u001b[1;34m\u001b[0m\n\u001b[1;32m----> 1\u001b[1;33m \u001b[0mscore_dir_cat\u001b[0m\u001b[1;33m.\u001b[0m\u001b[0mloc\u001b[0m\u001b[1;33m[\u001b[0m\u001b[1;33m(\u001b[0m\u001b[1;34m'Steven Spielberg'\u001b[0m\u001b[1;33m,\u001b[0m\u001b[1;34m'Oscar'\u001b[0m\u001b[1;33m)\u001b[0m\u001b[1;33m]\u001b[0m\u001b[1;33m\u001b[0m\u001b[1;33m\u001b[0m\u001b[0m\n\u001b[0m",
      "\u001b[1;31mNameError\u001b[0m: name 'score_dir_cat' is not defined"
     ]
    }
   ],
   "source": [
    "score_dir_cat.loc[('Steven Spielberg','Oscar')]"
   ]
  },
  {
   "cell_type": "code",
   "execution_count": 215,
   "id": "e4102fb7-bdbe-45a8-b909-2c8a859e5555",
   "metadata": {},
   "outputs": [],
   "source": [
    "# Not run for bar chart\n",
    "top20_ceremonies=df2.ceremony.value_counts()[:20].index.to_list()"
   ]
  },
  {
   "cell_type": "code",
   "execution_count": 216,
   "id": "7f342f37-3a90-43f4-a4d1-a82abb4c9823",
   "metadata": {},
   "outputs": [],
   "source": [
    "# Not run for bar chart\n",
    "m=df2.ceremony.isin(top20_ceremonies)"
   ]
  },
  {
   "cell_type": "code",
   "execution_count": 217,
   "id": "ce2d16c7-156a-4ebf-9c23-bdd6284964b1",
   "metadata": {},
   "outputs": [],
   "source": [
    "# Not run for bar chart\n",
    "df_top20_ceremonies=df2[m].copy()"
   ]
  },
  {
   "cell_type": "code",
   "execution_count": 218,
   "id": "180eaf4b-d0aa-4526-a3a2-43aada5e3cef",
   "metadata": {},
   "outputs": [],
   "source": [
    "# Not run for bar chart\n",
    "top_directors=df_top20_ceremonies.groupby(['director_name'])[['score']].sum().sort_values(by='score',ascending=False)"
   ]
  },
  {
   "cell_type": "code",
   "execution_count": 229,
   "id": "e6d225c7-9a07-45db-aa9e-fd07150a4ea1",
   "metadata": {},
   "outputs": [
    {
     "name": "stdout",
     "output_type": "stream",
     "text": [
      "Index(['Steven Spielberg', 'Don Hertzfeldt', 'Martin Scorsese',\n",
      "       'Clint Eastwood', 'Woody Allen', 'Joel Coen', 'Quentin Tarantino',\n",
      "       'Pedro Almodóvar', 'Peter Jackson', 'Christopher Nolan',\n",
      "       'Alejandro González Iñárritu', 'John Williams', 'Ethan Coen',\n",
      "       'Richard Linklater', 'Ang Lee', 'George Clooney', 'Ken Loach',\n",
      "       'Jack Nicholson', 'Philip Hoffman', 'Philip Seymour Hoffman'],\n",
      "      dtype='object', name='director_name')\n"
     ]
    }
   ],
   "source": [
    "df_top_direc=top_directors[:20]\n",
    "print(df_top_direc.index)"
   ]
  },
  {
   "cell_type": "code",
   "execution_count": 230,
   "id": "fa3d2841",
   "metadata": {},
   "outputs": [],
   "source": [
    "x_axis=df_top_direc.index"
   ]
  },
  {
   "cell_type": "code",
   "execution_count": 231,
   "id": "c00be628",
   "metadata": {},
   "outputs": [
    {
     "data": {
      "image/png": "[encoded data removed]",
      "text/plain": [
       "<Figure size 432x288 with 1 Axes>"
      ]
     },
     "metadata": {
      "needs_background": "light"
     },
     "output_type": "display_data"
    }
   ],
   "source": [
    "plot_test=df_top_direc.plot.bar(y='score', use_index=True)"
   ]
  },
  {
   "cell_type": "code",
   "execution_count": 243,
   "id": "4d66c12f",
   "metadata": {},
   "outputs": [
    {
     "ename": "AttributeError",
     "evalue": "'BarContainer' object has no attribute 'get_xticklabels'",
     "output_type": "error",
     "traceback": [
      "\u001b[1;31m---------------------------------------------------------------------------\u001b[0m",
      "\u001b[1;31mAttributeError\u001b[0m                            Traceback (most recent call last)",
      "\u001b[1;32m~\\AppData\\Local\\Temp/ipykernel_10216/1546173212.py\u001b[0m in \u001b[0;36m<module>\u001b[1;34m\u001b[0m\n\u001b[0;32m      1\u001b[0m \u001b[0mx_ax\u001b[0m\u001b[1;33m=\u001b[0m\u001b[0mdf_top_direc\u001b[0m\u001b[1;33m.\u001b[0m\u001b[0mindex\u001b[0m\u001b[1;33m.\u001b[0m\u001b[0mtolist\u001b[0m\u001b[1;33m(\u001b[0m\u001b[1;33m)\u001b[0m\u001b[1;33m\u001b[0m\u001b[1;33m\u001b[0m\u001b[0m\n\u001b[0;32m      2\u001b[0m \u001b[0mplot_test_mpl\u001b[0m\u001b[1;33m=\u001b[0m\u001b[0mmpl\u001b[0m\u001b[1;33m.\u001b[0m\u001b[0mbar\u001b[0m\u001b[1;33m(\u001b[0m\u001b[0mx\u001b[0m\u001b[1;33m=\u001b[0m\u001b[0mx_ax\u001b[0m\u001b[1;33m,\u001b[0m \u001b[0mheight\u001b[0m\u001b[1;33m=\u001b[0m\u001b[0mdf_top_direc\u001b[0m\u001b[1;33m[\u001b[0m\u001b[1;34m'score'\u001b[0m\u001b[1;33m]\u001b[0m\u001b[1;33m)\u001b[0m\u001b[1;33m\u001b[0m\u001b[1;33m\u001b[0m\u001b[0m\n\u001b[1;32m----> 3\u001b[1;33m \u001b[1;32mfor\u001b[0m \u001b[0mtick\u001b[0m \u001b[1;32min\u001b[0m \u001b[0mplot_test_mpl\u001b[0m\u001b[1;33m.\u001b[0m\u001b[0mget_xticklabels\u001b[0m\u001b[1;33m(\u001b[0m\u001b[1;33m)\u001b[0m\u001b[1;33m:\u001b[0m\u001b[1;33m\u001b[0m\u001b[1;33m\u001b[0m\u001b[0m\n\u001b[0m\u001b[0;32m      4\u001b[0m     \u001b[0mtick\u001b[0m\u001b[1;33m.\u001b[0m\u001b[0mset_rotation\u001b[0m\u001b[1;33m(\u001b[0m\u001b[1;36m90\u001b[0m\u001b[1;33m)\u001b[0m\u001b[1;33m\u001b[0m\u001b[1;33m\u001b[0m\u001b[0m\n",
      "\u001b[1;31mAttributeError\u001b[0m: 'BarContainer' object has no attribute 'get_xticklabels'"
     ]
    },
    {
     "data": {
      "image/png": "[encoded data removed]",
      "text/plain": [
       "<Figure size 432x288 with 1 Axes>"
      ]
     },
     "metadata": {
      "needs_background": "light"
     },
     "output_type": "display_data"
    }
   ],
   "source": [
    "x_ax=df_top_direc.index.tolist()\n",
    "plot_test_mpl=mpl.bar(x=x_ax, height=df_top_direc['score'])\n",
    "for tick in plot_test_mpl.get_xticklabels():\n",
    "    tick.set_rotation(90)"
   ]
  },
  {
   "cell_type": "code",
   "execution_count": 110,
   "id": "c3f9df6f-04fb-4625-a274-c37d16a4fc8f",
   "metadata": {},
   "outputs": [
    {
     "data": {
      "text/plain": [
       "<BarContainer object of 0 artists>"
      ]
     },
     "execution_count": 110,
     "metadata": {},
     "output_type": "execute_result"
    },
    {
     "data": {
      "image/png": "[encoded data removed]",
      "text/plain": [
       "<Figure size 432x288 with 1 Axes>"
      ]
     },
     "metadata": {
      "needs_background": "light"
     },
     "output_type": "display_data"
    }
   ],
   "source": []
  },
  {
   "cell_type": "code",
   "execution_count": 90,
   "id": "897cc4e0",
   "metadata": {},
   "outputs": [],
   "source": []
  },
  {
   "cell_type": "code",
   "execution_count": 75,
   "id": "abaa2f75",
   "metadata": {},
   "outputs": [],
   "source": []
  },
  {
   "cell_type": "code",
   "execution_count": 111,
   "id": "5e7c1d54",
   "metadata": {},
   "outputs": [
    {
     "ename": "ValueError",
     "evalue": "shape mismatch: objects cannot be broadcast to a single shape",
     "output_type": "error",
     "traceback": [
      "\u001b[1;31m---------------------------------------------------------------------------\u001b[0m",
      "\u001b[1;31mValueError\u001b[0m                                Traceback (most recent call last)",
      "\u001b[1;32m~\\AppData\\Local\\Temp/ipykernel_10216/4138749210.py\u001b[0m in \u001b[0;36m<module>\u001b[1;34m\u001b[0m\n\u001b[1;32m----> 1\u001b[1;33m \u001b[0mmpl\u001b[0m\u001b[1;33m.\u001b[0m\u001b[0mbar\u001b[0m\u001b[1;33m(\u001b[0m\u001b[0mx_axis\u001b[0m\u001b[1;33m,\u001b[0m \u001b[0my_axis\u001b[0m\u001b[1;33m)\u001b[0m\u001b[1;33m\u001b[0m\u001b[1;33m\u001b[0m\u001b[0m\n\u001b[0m",
      "\u001b[1;32m~\\anaconda3\\lib\\site-packages\\matplotlib\\pyplot.py\u001b[0m in \u001b[0;36mbar\u001b[1;34m(x, height, width, bottom, align, data, **kwargs)\u001b[0m\n\u001b[0;32m   2649\u001b[0m         \u001b[0mx\u001b[0m\u001b[1;33m,\u001b[0m \u001b[0mheight\u001b[0m\u001b[1;33m,\u001b[0m \u001b[0mwidth\u001b[0m\u001b[1;33m=\u001b[0m\u001b[1;36m0.8\u001b[0m\u001b[1;33m,\u001b[0m \u001b[0mbottom\u001b[0m\u001b[1;33m=\u001b[0m\u001b[1;32mNone\u001b[0m\u001b[1;33m,\u001b[0m \u001b[1;33m*\u001b[0m\u001b[1;33m,\u001b[0m \u001b[0malign\u001b[0m\u001b[1;33m=\u001b[0m\u001b[1;34m'center'\u001b[0m\u001b[1;33m,\u001b[0m\u001b[1;33m\u001b[0m\u001b[1;33m\u001b[0m\u001b[0m\n\u001b[0;32m   2650\u001b[0m         data=None, **kwargs):\n\u001b[1;32m-> 2651\u001b[1;33m     return gca().bar(\n\u001b[0m\u001b[0;32m   2652\u001b[0m         \u001b[0mx\u001b[0m\u001b[1;33m,\u001b[0m \u001b[0mheight\u001b[0m\u001b[1;33m,\u001b[0m \u001b[0mwidth\u001b[0m\u001b[1;33m=\u001b[0m\u001b[0mwidth\u001b[0m\u001b[1;33m,\u001b[0m \u001b[0mbottom\u001b[0m\u001b[1;33m=\u001b[0m\u001b[0mbottom\u001b[0m\u001b[1;33m,\u001b[0m \u001b[0malign\u001b[0m\u001b[1;33m=\u001b[0m\u001b[0malign\u001b[0m\u001b[1;33m,\u001b[0m\u001b[1;33m\u001b[0m\u001b[1;33m\u001b[0m\u001b[0m\n\u001b[0;32m   2653\u001b[0m         **({\"data\": data} if data is not None else {}), **kwargs)\n",
      "\u001b[1;32m~\\anaconda3\\lib\\site-packages\\matplotlib\\__init__.py\u001b[0m in \u001b[0;36minner\u001b[1;34m(ax, data, *args, **kwargs)\u001b[0m\n\u001b[0;32m   1359\u001b[0m     \u001b[1;32mdef\u001b[0m \u001b[0minner\u001b[0m\u001b[1;33m(\u001b[0m\u001b[0max\u001b[0m\u001b[1;33m,\u001b[0m \u001b[1;33m*\u001b[0m\u001b[0margs\u001b[0m\u001b[1;33m,\u001b[0m \u001b[0mdata\u001b[0m\u001b[1;33m=\u001b[0m\u001b[1;32mNone\u001b[0m\u001b[1;33m,\u001b[0m \u001b[1;33m**\u001b[0m\u001b[0mkwargs\u001b[0m\u001b[1;33m)\u001b[0m\u001b[1;33m:\u001b[0m\u001b[1;33m\u001b[0m\u001b[1;33m\u001b[0m\u001b[0m\n\u001b[0;32m   1360\u001b[0m         \u001b[1;32mif\u001b[0m \u001b[0mdata\u001b[0m \u001b[1;32mis\u001b[0m \u001b[1;32mNone\u001b[0m\u001b[1;33m:\u001b[0m\u001b[1;33m\u001b[0m\u001b[1;33m\u001b[0m\u001b[0m\n\u001b[1;32m-> 1361\u001b[1;33m             \u001b[1;32mreturn\u001b[0m \u001b[0mfunc\u001b[0m\u001b[1;33m(\u001b[0m\u001b[0max\u001b[0m\u001b[1;33m,\u001b[0m \u001b[1;33m*\u001b[0m\u001b[0mmap\u001b[0m\u001b[1;33m(\u001b[0m\u001b[0msanitize_sequence\u001b[0m\u001b[1;33m,\u001b[0m \u001b[0margs\u001b[0m\u001b[1;33m)\u001b[0m\u001b[1;33m,\u001b[0m \u001b[1;33m**\u001b[0m\u001b[0mkwargs\u001b[0m\u001b[1;33m)\u001b[0m\u001b[1;33m\u001b[0m\u001b[1;33m\u001b[0m\u001b[0m\n\u001b[0m\u001b[0;32m   1362\u001b[0m \u001b[1;33m\u001b[0m\u001b[0m\n\u001b[0;32m   1363\u001b[0m         \u001b[0mbound\u001b[0m \u001b[1;33m=\u001b[0m \u001b[0mnew_sig\u001b[0m\u001b[1;33m.\u001b[0m\u001b[0mbind\u001b[0m\u001b[1;33m(\u001b[0m\u001b[0max\u001b[0m\u001b[1;33m,\u001b[0m \u001b[1;33m*\u001b[0m\u001b[0margs\u001b[0m\u001b[1;33m,\u001b[0m \u001b[1;33m**\u001b[0m\u001b[0mkwargs\u001b[0m\u001b[1;33m)\u001b[0m\u001b[1;33m\u001b[0m\u001b[1;33m\u001b[0m\u001b[0m\n",
      "\u001b[1;32m~\\anaconda3\\lib\\site-packages\\matplotlib\\axes\\_axes.py\u001b[0m in \u001b[0;36mbar\u001b[1;34m(self, x, height, width, bottom, align, **kwargs)\u001b[0m\n\u001b[0;32m   2302\u001b[0m                 \u001b[0myerr\u001b[0m \u001b[1;33m=\u001b[0m \u001b[0mself\u001b[0m\u001b[1;33m.\u001b[0m\u001b[0m_convert_dx\u001b[0m\u001b[1;33m(\u001b[0m\u001b[0myerr\u001b[0m\u001b[1;33m,\u001b[0m \u001b[0my0\u001b[0m\u001b[1;33m,\u001b[0m \u001b[0my\u001b[0m\u001b[1;33m,\u001b[0m \u001b[0mself\u001b[0m\u001b[1;33m.\u001b[0m\u001b[0mconvert_yunits\u001b[0m\u001b[1;33m)\u001b[0m\u001b[1;33m\u001b[0m\u001b[1;33m\u001b[0m\u001b[0m\n\u001b[0;32m   2303\u001b[0m \u001b[1;33m\u001b[0m\u001b[0m\n\u001b[1;32m-> 2304\u001b[1;33m         x, height, width, y, linewidth, hatch = np.broadcast_arrays(\n\u001b[0m\u001b[0;32m   2305\u001b[0m             \u001b[1;31m# Make args iterable too.\u001b[0m\u001b[1;33m\u001b[0m\u001b[1;33m\u001b[0m\u001b[0m\n\u001b[0;32m   2306\u001b[0m             np.atleast_1d(x), height, width, y, linewidth, hatch)\n",
      "\u001b[1;32m<__array_function__ internals>\u001b[0m in \u001b[0;36mbroadcast_arrays\u001b[1;34m(*args, **kwargs)\u001b[0m\n",
      "\u001b[1;32m~\\anaconda3\\lib\\site-packages\\numpy\\lib\\stride_tricks.py\u001b[0m in \u001b[0;36mbroadcast_arrays\u001b[1;34m(subok, *args)\u001b[0m\n\u001b[0;32m    536\u001b[0m     \u001b[0margs\u001b[0m \u001b[1;33m=\u001b[0m \u001b[1;33m[\u001b[0m\u001b[0mnp\u001b[0m\u001b[1;33m.\u001b[0m\u001b[0marray\u001b[0m\u001b[1;33m(\u001b[0m\u001b[0m_m\u001b[0m\u001b[1;33m,\u001b[0m \u001b[0mcopy\u001b[0m\u001b[1;33m=\u001b[0m\u001b[1;32mFalse\u001b[0m\u001b[1;33m,\u001b[0m \u001b[0msubok\u001b[0m\u001b[1;33m=\u001b[0m\u001b[0msubok\u001b[0m\u001b[1;33m)\u001b[0m \u001b[1;32mfor\u001b[0m \u001b[0m_m\u001b[0m \u001b[1;32min\u001b[0m \u001b[0margs\u001b[0m\u001b[1;33m]\u001b[0m\u001b[1;33m\u001b[0m\u001b[1;33m\u001b[0m\u001b[0m\n\u001b[0;32m    537\u001b[0m \u001b[1;33m\u001b[0m\u001b[0m\n\u001b[1;32m--> 538\u001b[1;33m     \u001b[0mshape\u001b[0m \u001b[1;33m=\u001b[0m \u001b[0m_broadcast_shape\u001b[0m\u001b[1;33m(\u001b[0m\u001b[1;33m*\u001b[0m\u001b[0margs\u001b[0m\u001b[1;33m)\u001b[0m\u001b[1;33m\u001b[0m\u001b[1;33m\u001b[0m\u001b[0m\n\u001b[0m\u001b[0;32m    539\u001b[0m \u001b[1;33m\u001b[0m\u001b[0m\n\u001b[0;32m    540\u001b[0m     \u001b[1;32mif\u001b[0m \u001b[0mall\u001b[0m\u001b[1;33m(\u001b[0m\u001b[0marray\u001b[0m\u001b[1;33m.\u001b[0m\u001b[0mshape\u001b[0m \u001b[1;33m==\u001b[0m \u001b[0mshape\u001b[0m \u001b[1;32mfor\u001b[0m \u001b[0marray\u001b[0m \u001b[1;32min\u001b[0m \u001b[0margs\u001b[0m\u001b[1;33m)\u001b[0m\u001b[1;33m:\u001b[0m\u001b[1;33m\u001b[0m\u001b[1;33m\u001b[0m\u001b[0m\n",
      "\u001b[1;32m~\\anaconda3\\lib\\site-packages\\numpy\\lib\\stride_tricks.py\u001b[0m in \u001b[0;36m_broadcast_shape\u001b[1;34m(*args)\u001b[0m\n\u001b[0;32m    418\u001b[0m     \u001b[1;31m# use the old-iterator because np.nditer does not handle size 0 arrays\u001b[0m\u001b[1;33m\u001b[0m\u001b[1;33m\u001b[0m\u001b[0m\n\u001b[0;32m    419\u001b[0m     \u001b[1;31m# consistently\u001b[0m\u001b[1;33m\u001b[0m\u001b[1;33m\u001b[0m\u001b[0m\n\u001b[1;32m--> 420\u001b[1;33m     \u001b[0mb\u001b[0m \u001b[1;33m=\u001b[0m \u001b[0mnp\u001b[0m\u001b[1;33m.\u001b[0m\u001b[0mbroadcast\u001b[0m\u001b[1;33m(\u001b[0m\u001b[1;33m*\u001b[0m\u001b[0margs\u001b[0m\u001b[1;33m[\u001b[0m\u001b[1;33m:\u001b[0m\u001b[1;36m32\u001b[0m\u001b[1;33m]\u001b[0m\u001b[1;33m)\u001b[0m\u001b[1;33m\u001b[0m\u001b[1;33m\u001b[0m\u001b[0m\n\u001b[0m\u001b[0;32m    421\u001b[0m     \u001b[1;31m# unfortunately, it cannot handle 32 or more arguments directly\u001b[0m\u001b[1;33m\u001b[0m\u001b[1;33m\u001b[0m\u001b[0m\n\u001b[0;32m    422\u001b[0m     \u001b[1;32mfor\u001b[0m \u001b[0mpos\u001b[0m \u001b[1;32min\u001b[0m \u001b[0mrange\u001b[0m\u001b[1;33m(\u001b[0m\u001b[1;36m32\u001b[0m\u001b[1;33m,\u001b[0m \u001b[0mlen\u001b[0m\u001b[1;33m(\u001b[0m\u001b[0margs\u001b[0m\u001b[1;33m)\u001b[0m\u001b[1;33m,\u001b[0m \u001b[1;36m31\u001b[0m\u001b[1;33m)\u001b[0m\u001b[1;33m:\u001b[0m\u001b[1;33m\u001b[0m\u001b[1;33m\u001b[0m\u001b[0m\n",
      "\u001b[1;31mValueError\u001b[0m: shape mismatch: objects cannot be broadcast to a single shape"
     ]
    },
    {
     "data": {
      "image/png": "[encoded data removed]",
      "text/plain": [
       "<Figure size 432x288 with 1 Axes>"
      ]
     },
     "metadata": {
      "needs_background": "light"
     },
     "output_type": "display_data"
    }
   ],
   "source": []
  },
  {
   "cell_type": "code",
   "execution_count": 77,
   "id": "3db81774",
   "metadata": {},
   "outputs": [
    {
     "data": {
      "text/plain": [
       "director_name\n",
       "Steven Spielberg               1863\n",
       "Don Hertzfeldt                 1590\n",
       "Martin Scorsese                1540\n",
       "Clint Eastwood                 1527\n",
       "Woody Allen                    1444\n",
       "Joel Coen                      1331\n",
       "Quentin Tarantino              1319\n",
       "Pedro Almodóvar                1272\n",
       "Peter Jackson                  1205\n",
       "Christopher Nolan              1201\n",
       "Alejandro González Iñárritu    1190\n",
       "John Williams                  1128\n",
       "Ethan Coen                     1122\n",
       "Richard Linklater              1104\n",
       "Ang Lee                        1054\n",
       "George Clooney                 1053\n",
       "Ken Loach                      1053\n",
       "Jack Nicholson                  978\n",
       "Philip Hoffman                  973\n",
       "Philip Seymour Hoffman          973\n",
       "Name: score, dtype: int64"
      ]
     },
     "execution_count": 77,
     "metadata": {},
     "output_type": "execute_result"
    }
   ],
   "source": []
  },
  {
   "cell_type": "code",
   "execution_count": 79,
   "id": "0a91c0ed",
   "metadata": {},
   "outputs": [],
   "source": []
  },
  {
   "cell_type": "code",
   "execution_count": 80,
   "id": "9c19da1c",
   "metadata": {},
   "outputs": [
    {
     "data": {
      "text/plain": [
       "'score'"
      ]
     },
     "execution_count": 80,
     "metadata": {},
     "output_type": "execute_result"
    }
   ],
   "source": []
  },
  {
   "cell_type": "code",
   "execution_count": null,
   "id": "1c03012e",
   "metadata": {},
   "outputs": [],
   "source": []
  }
 ],
 "metadata": {
  "kernelspec": {
   "display_name": "Python 3 (ipykernel)",
   "language": "python",
   "name": "python3"
  },
  "language_info": {
   "codemirror_mode": {
    "name": "ipython",
    "version": 3
   },
   "file_extension": ".py",
   "mimetype": "text/x-python",
   "name": "python",
   "nbconvert_exporter": "python",
   "pygments_lexer": "ipython3",
   "version": "3.9.7"
  }
 },
 "nbformat": 4,
 "nbformat_minor": 5
}
